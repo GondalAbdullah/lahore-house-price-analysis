{
 "cells": [
  {
   "cell_type": "code",
   "execution_count": 23,
   "id": "7c5fd52c-c1e1-468d-be2f-d05c2b3a815d",
   "metadata": {},
   "outputs": [],
   "source": [
    "from sklearn.model_selection import train_test_split\n",
    "from sklearn.linear_model import LinearRegression\n",
    "from sklearn.ensemble import RandomForestRegressor, GradientBoostingRegressor\n",
    "from sklearn.metrics import mean_squared_error, r2_score\n",
    "import numpy as np\n",
    "import pandas as pd\n",
    "import joblib"
   ]
  },
  {
   "cell_type": "code",
   "execution_count": 14,
   "id": "8e7863f5-5cdb-4c6f-a903-7b3cf6b164f7",
   "metadata": {},
   "outputs": [],
   "source": [
    "# Split for regular features\n",
    "\n",
    "X = pd.read_csv(\"features_X.csv\")\n",
    "target_y = pd.read_csv(\"target_y.csv\")\n",
    "pca_df = pd.read_csv(\"pca_df.csv\")\n",
    "y = target_y[\"Price\"]\n",
    "\n",
    "X_train, X_test, y_train, y_test = train_test_split(X, y, test_size=0.2, random_state=42)\n",
    "\n",
    "# PCA features\n",
    "X_pca_train, X_pca_test = train_test_split(pca_df, test_size=0.2, random_state=42)"
   ]
  },
  {
   "cell_type": "code",
   "execution_count": 31,
   "id": "7e3f78d4-ca11-4577-9677-eddf94f4a2ff",
   "metadata": {},
   "outputs": [],
   "source": [
    "results = []\n",
    "\n",
    "# Making a dictionary of models we want to test\n",
    "models = {\n",
    "    \"Linear Regression\": LinearRegression(),\n",
    "    \"Random Forest\": RandomForestRegressor(random_state=42),\n",
    "    \"Gradient Boosting\": GradientBoostingRegressor(random_state=42)\n",
    "}"
   ]
  },
  {
   "cell_type": "code",
   "execution_count": 32,
   "id": "838fe69b-340c-437a-8611-979459eb6ed5",
   "metadata": {},
   "outputs": [],
   "source": [
    "# Using Original Features\n",
    "for model_name in models:\n",
    "    model = models[model_name]  # Get the model from dictionary\n",
    "    model.fit(X_train, y_train)  # Train the model\n",
    "\n",
    "    # Predict on test set\n",
    "    y_pred = model.predict(X_test)\n",
    "\n",
    "    # Calculate metrics\n",
    "    r2 = r2_score(y_test, y_pred)\n",
    "    rmse = np.sqrt(mean_squared_error(y_test, y_pred))\n",
    "\n",
    "    # Store the results\n",
    "    results.append({\n",
    "        \"Model\": model_name,\n",
    "        \"Features\": \"Original\",\n",
    "        \"R2 Score\": r2,\n",
    "        \"RMSE\": rmse\n",
    "    })"
   ]
  },
  {
   "cell_type": "code",
   "execution_count": 33,
   "id": "bb39c306-08e7-4f0d-a569-30612a02a645",
   "metadata": {},
   "outputs": [],
   "source": [
    "# Using PCA Features\n",
    "for model_name in models:\n",
    "    model = models[model_name]\n",
    "    model.fit(X_pca_train, y_train)  # Train on PCA data\n",
    "\n",
    "    y_pred = model.predict(X_pca_test)  # Predict\n",
    "\n",
    "    r2 = r2_score(y_test, y_pred)\n",
    "    rmse = np.sqrt(mean_squared_error(y_test, y_pred))\n",
    "\n",
    "    results.append({\n",
    "        \"Model\": model_name,\n",
    "        \"Features\": \"PCA\",\n",
    "        \"R2 Score\": r2,\n",
    "        \"RMSE\": rmse\n",
    "    })"
   ]
  },
  {
   "cell_type": "code",
   "execution_count": 34,
   "id": "577f5b42-d1b4-4d15-907e-7ff40ce824f2",
   "metadata": {},
   "outputs": [
    {
     "data": {
      "text/html": [
       "<div>\n",
       "<style scoped>\n",
       "    .dataframe tbody tr th:only-of-type {\n",
       "        vertical-align: middle;\n",
       "    }\n",
       "\n",
       "    .dataframe tbody tr th {\n",
       "        vertical-align: top;\n",
       "    }\n",
       "\n",
       "    .dataframe thead th {\n",
       "        text-align: right;\n",
       "    }\n",
       "</style>\n",
       "<table border=\"1\" class=\"dataframe\">\n",
       "  <thead>\n",
       "    <tr style=\"text-align: right;\">\n",
       "      <th></th>\n",
       "      <th>Model</th>\n",
       "      <th>Features</th>\n",
       "      <th>R2 Score</th>\n",
       "      <th>RMSE</th>\n",
       "    </tr>\n",
       "  </thead>\n",
       "  <tbody>\n",
       "    <tr>\n",
       "      <th>0</th>\n",
       "      <td>Linear Regression</td>\n",
       "      <td>Original</td>\n",
       "      <td>0.814692</td>\n",
       "      <td>2.527762e+07</td>\n",
       "    </tr>\n",
       "    <tr>\n",
       "      <th>1</th>\n",
       "      <td>Random Forest</td>\n",
       "      <td>Original</td>\n",
       "      <td>0.994809</td>\n",
       "      <td>4.230539e+06</td>\n",
       "    </tr>\n",
       "    <tr>\n",
       "      <th>2</th>\n",
       "      <td>Gradient Boosting</td>\n",
       "      <td>Original</td>\n",
       "      <td>0.995188</td>\n",
       "      <td>4.073276e+06</td>\n",
       "    </tr>\n",
       "    <tr>\n",
       "      <th>3</th>\n",
       "      <td>Linear Regression</td>\n",
       "      <td>PCA</td>\n",
       "      <td>0.591048</td>\n",
       "      <td>3.755128e+07</td>\n",
       "    </tr>\n",
       "    <tr>\n",
       "      <th>4</th>\n",
       "      <td>Random Forest</td>\n",
       "      <td>PCA</td>\n",
       "      <td>0.957437</td>\n",
       "      <td>1.211442e+07</td>\n",
       "    </tr>\n",
       "    <tr>\n",
       "      <th>5</th>\n",
       "      <td>Gradient Boosting</td>\n",
       "      <td>PCA</td>\n",
       "      <td>0.918305</td>\n",
       "      <td>1.678364e+07</td>\n",
       "    </tr>\n",
       "  </tbody>\n",
       "</table>\n",
       "</div>"
      ],
      "text/plain": [
       "               Model  Features  R2 Score          RMSE\n",
       "0  Linear Regression  Original  0.814692  2.527762e+07\n",
       "1      Random Forest  Original  0.994809  4.230539e+06\n",
       "2  Gradient Boosting  Original  0.995188  4.073276e+06\n",
       "3  Linear Regression       PCA  0.591048  3.755128e+07\n",
       "4      Random Forest       PCA  0.957437  1.211442e+07\n",
       "5  Gradient Boosting       PCA  0.918305  1.678364e+07"
      ]
     },
     "metadata": {},
     "output_type": "display_data"
    }
   ],
   "source": [
    "results_df = pd.DataFrame(results)\n",
    "display(results_df)"
   ]
  },
  {
   "cell_type": "markdown",
   "id": "d6c533e4-c5f1-436d-8913-c005ec93a62c",
   "metadata": {},
   "source": [
    "## Model Comparison\n",
    "\n",
    "We trained three different regressors using two feature sets:\n",
    "- The **engineered feature set** (includes manual features like `Price_per_Marla`, `Size_Category`, etc.)\n",
    "- A **PCA-reduced set** of top 3 extracted components\n",
    "\n",
    "This table shows their performance using R² and RMSE.\n",
    "\n",
    "**Key Takeaways:**\n",
    "- **Gradient Boosting** performs best overall.\n",
    "- Engineered features capture domain knowledge better.\n"
   ]
  }
 ],
 "metadata": {
  "kernelspec": {
   "display_name": "Python 3 (ipykernel)",
   "language": "python",
   "name": "python3"
  },
  "language_info": {
   "codemirror_mode": {
    "name": "ipython",
    "version": 3
   },
   "file_extension": ".py",
   "mimetype": "text/x-python",
   "name": "python",
   "nbconvert_exporter": "python",
   "pygments_lexer": "ipython3",
   "version": "3.12.3"
  }
 },
 "nbformat": 4,
 "nbformat_minor": 5
}
