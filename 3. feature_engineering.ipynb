{
 "cells": [
  {
   "cell_type": "code",
   "execution_count": 2,
   "id": "39461a2d-12ab-444f-8128-50a161f7c375",
   "metadata": {},
   "outputs": [],
   "source": [
    "import pandas as pd\n",
    "from sklearn.preprocessing import StandardScaler\n",
    "from sklearn.decomposition import PCA"
   ]
  },
  {
   "cell_type": "markdown",
   "id": "5480f900-6619-4c95-a4a2-01a3f7ec325b",
   "metadata": {},
   "source": [
    "### Doing basic Feature Engineering and Feacture Extraction using PCA for model implementation and analysis"
   ]
  },
  {
   "cell_type": "code",
   "execution_count": 3,
   "id": "3b3939ff-da20-4aa5-a34d-06bc133b5c8c",
   "metadata": {},
   "outputs": [],
   "source": [
    "df = pd.read_csv(\"preprocessed_lahore_house_prices.csv\")"
   ]
  },
  {
   "cell_type": "markdown",
   "id": "c1ac9511-0787-46c0-893f-de697ee1956e",
   "metadata": {},
   "source": [
    "## Price per Marla"
   ]
  },
  {
   "cell_type": "code",
   "execution_count": 4,
   "id": "92b32e1d-575b-4f7c-930b-985d29820007",
   "metadata": {},
   "outputs": [],
   "source": [
    "df[\"Price_per_Marla\"] = df[\"Price\"] / df[\"Area_Marlas\"]"
   ]
  },
  {
   "cell_type": "markdown",
   "id": "07a15b3a-6746-4dd2-bbe1-64202edfe59c",
   "metadata": {},
   "source": [
    "## Location Tiering"
   ]
  },
  {
   "cell_type": "code",
   "execution_count": 5,
   "id": "cf5f9ca8-58df-43be-a0a5-721c7a7c0a10",
   "metadata": {},
   "outputs": [],
   "source": [
    "# Calculate average price per location\n",
    "location_avg = df.groupby(\"Location\")[\"Price\"].mean()\n",
    "\n",
    "# Define tiers based on quantiles\n",
    "high_thresh = location_avg.quantile(0.75)\n",
    "low_thresh = location_avg.quantile(0.25)\n",
    "\n",
    "def assign_location_tier(loc):\n",
    "    avg_price = location_avg.get(loc, 0)\n",
    "    if avg_price >= high_thresh:\n",
    "        return \"High-end\"\n",
    "    elif avg_price <= low_thresh:\n",
    "        return \"Low-end\"\n",
    "    else:\n",
    "        return \"Mid-range\"\n",
    "\n",
    "df[\"Location_Tier\"] = df[\"Location\"].apply(assign_location_tier)"
   ]
  },
  {
   "cell_type": "markdown",
   "id": "d7e555d9-d4a9-4793-91b2-6b11d473e06e",
   "metadata": {},
   "source": [
    "## Size Category"
   ]
  },
  {
   "cell_type": "code",
   "execution_count": 6,
   "id": "8ce9f7f1-d261-4f88-9fc3-2ac64647636c",
   "metadata": {},
   "outputs": [],
   "source": [
    "def size_category(marla):\n",
    "    if marla < 5:\n",
    "        return \"Small\"\n",
    "    elif marla <= 10:\n",
    "        return \"Medium\"\n",
    "    else:\n",
    "        return \"Large\"\n",
    "\n",
    "df[\"Size_Category\"] = df[\"Area_Marlas\"].apply(size_category)"
   ]
  },
  {
   "cell_type": "markdown",
   "id": "16b2b093-39f4-440f-b761-eec84728a71f",
   "metadata": {},
   "source": [
    "## Luxury Indicator"
   ]
  },
  {
   "cell_type": "code",
   "execution_count": 7,
   "id": "e31f6fad-6d74-4e6d-89cc-d73b219a11fc",
   "metadata": {},
   "outputs": [],
   "source": [
    "df[\"Is_Luxury\"] = ((df[\"Bedroom(s)\"] > 5) & (df[\"Bath(s)\"] > 5)).astype(int)"
   ]
  },
  {
   "cell_type": "markdown",
   "id": "5488c98e-4df2-47bf-b931-4d5eb61eca7c",
   "metadata": {},
   "source": [
    "## Using one-hot encoding to convert categorical into numeric form."
   ]
  },
  {
   "cell_type": "code",
   "execution_count": 11,
   "id": "6c626ce8-72ef-4520-abf4-f9338a74c1be",
   "metadata": {},
   "outputs": [
    {
     "data": {
      "text/html": [
       "<div>\n",
       "<style scoped>\n",
       "    .dataframe tbody tr th:only-of-type {\n",
       "        vertical-align: middle;\n",
       "    }\n",
       "\n",
       "    .dataframe tbody tr th {\n",
       "        vertical-align: top;\n",
       "    }\n",
       "\n",
       "    .dataframe thead th {\n",
       "        text-align: right;\n",
       "    }\n",
       "</style>\n",
       "<table border=\"1\" class=\"dataframe\">\n",
       "  <thead>\n",
       "    <tr style=\"text-align: right;\">\n",
       "      <th></th>\n",
       "      <th>house_id</th>\n",
       "      <th>Location</th>\n",
       "      <th>Area</th>\n",
       "      <th>Bath(s)</th>\n",
       "      <th>Bedroom(s)</th>\n",
       "      <th>Price</th>\n",
       "      <th>Area_Marlas</th>\n",
       "      <th>Price_per_Marla</th>\n",
       "      <th>Is_Luxury</th>\n",
       "      <th>Type_house</th>\n",
       "      <th>Location_Tier_Low-end</th>\n",
       "      <th>Location_Tier_Mid-range</th>\n",
       "      <th>Size_Category_Medium</th>\n",
       "      <th>Size_Category_Small</th>\n",
       "    </tr>\n",
       "  </thead>\n",
       "  <tbody>\n",
       "    <tr>\n",
       "      <th>0</th>\n",
       "      <td>46326643</td>\n",
       "      <td>dha defence, lahore, punjab</td>\n",
       "      <td>1 Kanal</td>\n",
       "      <td>6</td>\n",
       "      <td>5</td>\n",
       "      <td>75500000</td>\n",
       "      <td>20.0</td>\n",
       "      <td>3775000.0</td>\n",
       "      <td>0</td>\n",
       "      <td>True</td>\n",
       "      <td>False</td>\n",
       "      <td>False</td>\n",
       "      <td>False</td>\n",
       "      <td>False</td>\n",
       "    </tr>\n",
       "    <tr>\n",
       "      <th>1</th>\n",
       "      <td>46952582</td>\n",
       "      <td>bahria orchard, lahore, punjab</td>\n",
       "      <td>8 Marla</td>\n",
       "      <td>5</td>\n",
       "      <td>5</td>\n",
       "      <td>25000000</td>\n",
       "      <td>8.0</td>\n",
       "      <td>3125000.0</td>\n",
       "      <td>0</td>\n",
       "      <td>True</td>\n",
       "      <td>True</td>\n",
       "      <td>False</td>\n",
       "      <td>True</td>\n",
       "      <td>False</td>\n",
       "    </tr>\n",
       "    <tr>\n",
       "      <th>2</th>\n",
       "      <td>47357581</td>\n",
       "      <td>paragon city, lahore, punjab</td>\n",
       "      <td>10 Marla</td>\n",
       "      <td>6</td>\n",
       "      <td>5</td>\n",
       "      <td>47000000</td>\n",
       "      <td>10.0</td>\n",
       "      <td>4700000.0</td>\n",
       "      <td>0</td>\n",
       "      <td>True</td>\n",
       "      <td>False</td>\n",
       "      <td>True</td>\n",
       "      <td>True</td>\n",
       "      <td>False</td>\n",
       "    </tr>\n",
       "    <tr>\n",
       "      <th>3</th>\n",
       "      <td>47397157</td>\n",
       "      <td>askari, lahore, punjab</td>\n",
       "      <td>10 Marla</td>\n",
       "      <td>3</td>\n",
       "      <td>3</td>\n",
       "      <td>28000000</td>\n",
       "      <td>10.0</td>\n",
       "      <td>2800000.0</td>\n",
       "      <td>0</td>\n",
       "      <td>False</td>\n",
       "      <td>False</td>\n",
       "      <td>False</td>\n",
       "      <td>True</td>\n",
       "      <td>False</td>\n",
       "    </tr>\n",
       "    <tr>\n",
       "      <th>4</th>\n",
       "      <td>43109993</td>\n",
       "      <td>dha defence, lahore, punjab</td>\n",
       "      <td>8 Marla</td>\n",
       "      <td>5</td>\n",
       "      <td>4</td>\n",
       "      <td>43500000</td>\n",
       "      <td>8.0</td>\n",
       "      <td>5437500.0</td>\n",
       "      <td>0</td>\n",
       "      <td>True</td>\n",
       "      <td>False</td>\n",
       "      <td>False</td>\n",
       "      <td>True</td>\n",
       "      <td>False</td>\n",
       "    </tr>\n",
       "  </tbody>\n",
       "</table>\n",
       "</div>"
      ],
      "text/plain": [
       "   house_id                        Location      Area  Bath(s)  Bedroom(s)  \\\n",
       "0  46326643     dha defence, lahore, punjab   1 Kanal        6           5   \n",
       "1  46952582  bahria orchard, lahore, punjab   8 Marla        5           5   \n",
       "2  47357581    paragon city, lahore, punjab  10 Marla        6           5   \n",
       "3  47397157          askari, lahore, punjab  10 Marla        3           3   \n",
       "4  43109993     dha defence, lahore, punjab   8 Marla        5           4   \n",
       "\n",
       "      Price  Area_Marlas  Price_per_Marla  Is_Luxury  Type_house  \\\n",
       "0  75500000         20.0        3775000.0          0        True   \n",
       "1  25000000          8.0        3125000.0          0        True   \n",
       "2  47000000         10.0        4700000.0          0        True   \n",
       "3  28000000         10.0        2800000.0          0       False   \n",
       "4  43500000          8.0        5437500.0          0        True   \n",
       "\n",
       "   Location_Tier_Low-end  Location_Tier_Mid-range  Size_Category_Medium  \\\n",
       "0                  False                    False                 False   \n",
       "1                   True                    False                  True   \n",
       "2                  False                     True                  True   \n",
       "3                  False                    False                  True   \n",
       "4                  False                    False                  True   \n",
       "\n",
       "   Size_Category_Small  \n",
       "0                False  \n",
       "1                False  \n",
       "2                False  \n",
       "3                False  \n",
       "4                False  "
      ]
     },
     "execution_count": 11,
     "metadata": {},
     "output_type": "execute_result"
    }
   ],
   "source": [
    "df_model = pd.get_dummies(df, columns=[\"Type\", \"Location_Tier\", \"Size_Category\"], drop_first=True)\n",
    "df_model.head()"
   ]
  },
  {
   "cell_type": "markdown",
   "id": "e210fe17-135a-4d01-babc-a4a656c32f23",
   "metadata": {},
   "source": [
    "## Dividing into X and y for model implementation"
   ]
  },
  {
   "cell_type": "code",
   "execution_count": 9,
   "id": "b157545f-4adf-4260-b3d3-251ddaffb2de",
   "metadata": {},
   "outputs": [],
   "source": [
    "X = df_model.drop(columns=[\"house_id\", \"Price\", \"Location\", \"Area\"])  # Drop raw features\n",
    "y = df_model[\"Price\"]\n",
    "\n",
    "X.to_csv(\"features_X.csv\", index=False)\n",
    "y.to_csv(\"target_y.csv\", index=False)"
   ]
  },
  {
   "cell_type": "markdown",
   "id": "0fbb25f0-79eb-473b-8ad8-3b2fdefcd63b",
   "metadata": {},
   "source": [
    "# PCA Feature Extraction\n",
    "### Feature Extraction (Bonus Section)\n",
    "\n",
    "In addition to manual feature engineering, we perform feature extraction using **Principal Component Analysis (PCA)**. This technique helps reduce high-dimensional data into principal components that summarize the key patterns in the dataset.\n",
    "\n",
    "We extract the top 3 components and include them in our modeling to capture hidden structure that may not be apparent in raw or engineered features.\n"
   ]
  },
  {
   "cell_type": "code",
   "execution_count": 10,
   "id": "9db38929-0edc-4fef-bb13-ca581e933fcb",
   "metadata": {},
   "outputs": [
    {
     "ename": "NameError",
     "evalue": "name 'pca_df' is not defined",
     "output_type": "error",
     "traceback": [
      "\u001b[1;31m---------------------------------------------------------------------------\u001b[0m",
      "\u001b[1;31mNameError\u001b[0m                                 Traceback (most recent call last)",
      "Cell \u001b[1;32mIn[10], line 10\u001b[0m\n\u001b[0;32m      6\u001b[0m pca \u001b[38;5;241m=\u001b[39m PCA(n_components\u001b[38;5;241m=\u001b[39m\u001b[38;5;241m3\u001b[39m)  \u001b[38;5;66;03m# Just extract top 3 components\u001b[39;00m\n\u001b[0;32m      7\u001b[0m X_pca \u001b[38;5;241m=\u001b[39m pca\u001b[38;5;241m.\u001b[39mfit_transform(X_scaled)\n\u001b[1;32m---> 10\u001b[0m \u001b[43mpca_df\u001b[49m\u001b[38;5;241m.\u001b[39mto_csv(\u001b[38;5;124m\"\u001b[39m\u001b[38;5;124mpca_df.csv\u001b[39m\u001b[38;5;124m\"\u001b[39m, index\u001b[38;5;241m=\u001b[39m\u001b[38;5;28;01mFalse\u001b[39;00m)\n",
      "\u001b[1;31mNameError\u001b[0m: name 'pca_df' is not defined"
     ]
    }
   ],
   "source": [
    "# Standardize the features before PCA\n",
    "scaler = StandardScaler()\n",
    "X_scaled = scaler.fit_transform(X)\n",
    "\n",
    "# Apply PCA\n",
    "pca = PCA(n_components=3)  # Just extract top 3 components\n",
    "X_pca = pca.fit_transform(X_scaled)\n",
    "\n",
    "\n",
    "pca_df.to_csv(\"pca_df.csv\", index=False)"
   ]
  }
 ],
 "metadata": {
  "kernelspec": {
   "display_name": "Python 3 (ipykernel)",
   "language": "python",
   "name": "python3"
  },
  "language_info": {
   "codemirror_mode": {
    "name": "ipython",
    "version": 3
   },
   "file_extension": ".py",
   "mimetype": "text/x-python",
   "name": "python",
   "nbconvert_exporter": "python",
   "pygments_lexer": "ipython3",
   "version": "3.12.3"
  }
 },
 "nbformat": 4,
 "nbformat_minor": 5
}
