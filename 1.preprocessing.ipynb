{
 "cells": [
  {
   "cell_type": "code",
   "execution_count": 10,
   "id": "ef13e395-8f9a-48bf-97fe-b561aa20aa36",
   "metadata": {},
   "outputs": [],
   "source": [
    "import pandas as pd"
   ]
  },
  {
   "cell_type": "code",
   "execution_count": 11,
   "id": "c253009b-d842-4732-9b36-077d436606dd",
   "metadata": {},
   "outputs": [
    {
     "data": {
      "text/html": [
       "<div>\n",
       "<style scoped>\n",
       "    .dataframe tbody tr th:only-of-type {\n",
       "        vertical-align: middle;\n",
       "    }\n",
       "\n",
       "    .dataframe tbody tr th {\n",
       "        vertical-align: top;\n",
       "    }\n",
       "\n",
       "    .dataframe thead th {\n",
       "        text-align: right;\n",
       "    }\n",
       "</style>\n",
       "<table border=\"1\" class=\"dataframe\">\n",
       "  <thead>\n",
       "    <tr style=\"text-align: right;\">\n",
       "      <th></th>\n",
       "      <th>house_id</th>\n",
       "      <th>Type</th>\n",
       "      <th>Location</th>\n",
       "      <th>Area</th>\n",
       "      <th>Bath(s)</th>\n",
       "      <th>Bedroom(s)</th>\n",
       "      <th>Price</th>\n",
       "    </tr>\n",
       "  </thead>\n",
       "  <tbody>\n",
       "    <tr>\n",
       "      <th>0</th>\n",
       "      <td>46326643</td>\n",
       "      <td>House</td>\n",
       "      <td>DHA Defence, Lahore, Punjab</td>\n",
       "      <td>1 Kanal</td>\n",
       "      <td>6</td>\n",
       "      <td>5</td>\n",
       "      <td>75500000</td>\n",
       "    </tr>\n",
       "    <tr>\n",
       "      <th>1</th>\n",
       "      <td>46952582</td>\n",
       "      <td>House</td>\n",
       "      <td>Bahria Orchard, Lahore, Punjab</td>\n",
       "      <td>8 Marla</td>\n",
       "      <td>5</td>\n",
       "      <td>5</td>\n",
       "      <td>25000000</td>\n",
       "    </tr>\n",
       "    <tr>\n",
       "      <th>2</th>\n",
       "      <td>47357581</td>\n",
       "      <td>House</td>\n",
       "      <td>Paragon City, Lahore, Punjab</td>\n",
       "      <td>10 Marla</td>\n",
       "      <td>6</td>\n",
       "      <td>5</td>\n",
       "      <td>47000000</td>\n",
       "    </tr>\n",
       "    <tr>\n",
       "      <th>3</th>\n",
       "      <td>47397157</td>\n",
       "      <td>Flat</td>\n",
       "      <td>Askari, Lahore, Punjab</td>\n",
       "      <td>10 Marla</td>\n",
       "      <td>3</td>\n",
       "      <td>3</td>\n",
       "      <td>28000000</td>\n",
       "    </tr>\n",
       "    <tr>\n",
       "      <th>4</th>\n",
       "      <td>43109993</td>\n",
       "      <td>House</td>\n",
       "      <td>DHA Defence, Lahore, Punjab</td>\n",
       "      <td>8 Marla</td>\n",
       "      <td>5</td>\n",
       "      <td>4</td>\n",
       "      <td>43500000</td>\n",
       "    </tr>\n",
       "  </tbody>\n",
       "</table>\n",
       "</div>"
      ],
      "text/plain": [
       "   house_id   Type                        Location      Area  Bath(s)  \\\n",
       "0  46326643  House     DHA Defence, Lahore, Punjab   1 Kanal        6   \n",
       "1  46952582  House  Bahria Orchard, Lahore, Punjab   8 Marla        5   \n",
       "2  47357581  House    Paragon City, Lahore, Punjab  10 Marla        6   \n",
       "3  47397157   Flat          Askari, Lahore, Punjab  10 Marla        3   \n",
       "4  43109993  House     DHA Defence, Lahore, Punjab   8 Marla        5   \n",
       "\n",
       "   Bedroom(s)     Price  \n",
       "0           5  75500000  \n",
       "1           5  25000000  \n",
       "2           5  47000000  \n",
       "3           3  28000000  \n",
       "4           4  43500000  "
      ]
     },
     "execution_count": 11,
     "metadata": {},
     "output_type": "execute_result"
    }
   ],
   "source": [
    "df = pd.read_csv(\"lahore_housing_prices.csv\")\n",
    "df.head()"
   ]
  },
  {
   "cell_type": "markdown",
   "id": "3018984a-223e-420d-9033-459f948301c3",
   "metadata": {},
   "source": [
    "### Basic info related to the data"
   ]
  },
  {
   "cell_type": "code",
   "execution_count": 12,
   "id": "eb745a8f-1fae-4419-a424-9f6ffa9e3f19",
   "metadata": {},
   "outputs": [
    {
     "name": "stdout",
     "output_type": "stream",
     "text": [
      "<class 'pandas.core.frame.DataFrame'>\n",
      "RangeIndex: 17169 entries, 0 to 17168\n",
      "Data columns (total 7 columns):\n",
      " #   Column      Non-Null Count  Dtype \n",
      "---  ------      --------------  ----- \n",
      " 0   house_id    17169 non-null  int64 \n",
      " 1   Type        17169 non-null  object\n",
      " 2   Location    17169 non-null  object\n",
      " 3   Area        17169 non-null  object\n",
      " 4   Bath(s)     17169 non-null  int64 \n",
      " 5   Bedroom(s)  17169 non-null  int64 \n",
      " 6   Price       17169 non-null  int64 \n",
      "dtypes: int64(4), object(3)\n",
      "memory usage: 939.1+ KB\n"
     ]
    }
   ],
   "source": [
    "df.info()"
   ]
  },
  {
   "cell_type": "code",
   "execution_count": 13,
   "id": "635f0754-4054-48ec-8fd8-5886c00ed8de",
   "metadata": {},
   "outputs": [
    {
     "data": {
      "text/html": [
       "<div>\n",
       "<style scoped>\n",
       "    .dataframe tbody tr th:only-of-type {\n",
       "        vertical-align: middle;\n",
       "    }\n",
       "\n",
       "    .dataframe tbody tr th {\n",
       "        vertical-align: top;\n",
       "    }\n",
       "\n",
       "    .dataframe thead th {\n",
       "        text-align: right;\n",
       "    }\n",
       "</style>\n",
       "<table border=\"1\" class=\"dataframe\">\n",
       "  <thead>\n",
       "    <tr style=\"text-align: right;\">\n",
       "      <th></th>\n",
       "      <th>house_id</th>\n",
       "      <th>Type</th>\n",
       "      <th>Location</th>\n",
       "      <th>Area</th>\n",
       "      <th>Bath(s)</th>\n",
       "      <th>Bedroom(s)</th>\n",
       "      <th>Price</th>\n",
       "    </tr>\n",
       "  </thead>\n",
       "  <tbody>\n",
       "    <tr>\n",
       "      <th>count</th>\n",
       "      <td>1.716900e+04</td>\n",
       "      <td>17169</td>\n",
       "      <td>17169</td>\n",
       "      <td>17169</td>\n",
       "      <td>17169.000000</td>\n",
       "      <td>17169.000000</td>\n",
       "      <td>1.716900e+04</td>\n",
       "    </tr>\n",
       "    <tr>\n",
       "      <th>unique</th>\n",
       "      <td>NaN</td>\n",
       "      <td>4</td>\n",
       "      <td>324</td>\n",
       "      <td>170</td>\n",
       "      <td>NaN</td>\n",
       "      <td>NaN</td>\n",
       "      <td>NaN</td>\n",
       "    </tr>\n",
       "    <tr>\n",
       "      <th>top</th>\n",
       "      <td>NaN</td>\n",
       "      <td>House</td>\n",
       "      <td>DHA Defence, Lahore, Punjab</td>\n",
       "      <td>5 Marla</td>\n",
       "      <td>NaN</td>\n",
       "      <td>NaN</td>\n",
       "      <td>NaN</td>\n",
       "    </tr>\n",
       "    <tr>\n",
       "      <th>freq</th>\n",
       "      <td>NaN</td>\n",
       "      <td>16017</td>\n",
       "      <td>4845</td>\n",
       "      <td>4304</td>\n",
       "      <td>NaN</td>\n",
       "      <td>NaN</td>\n",
       "      <td>NaN</td>\n",
       "    </tr>\n",
       "    <tr>\n",
       "      <th>mean</th>\n",
       "      <td>4.655362e+07</td>\n",
       "      <td>NaN</td>\n",
       "      <td>NaN</td>\n",
       "      <td>NaN</td>\n",
       "      <td>4.716233</td>\n",
       "      <td>4.183820</td>\n",
       "      <td>4.758766e+07</td>\n",
       "    </tr>\n",
       "    <tr>\n",
       "      <th>std</th>\n",
       "      <td>1.796472e+06</td>\n",
       "      <td>NaN</td>\n",
       "      <td>NaN</td>\n",
       "      <td>NaN</td>\n",
       "      <td>1.329716</td>\n",
       "      <td>1.294566</td>\n",
       "      <td>5.467632e+07</td>\n",
       "    </tr>\n",
       "    <tr>\n",
       "      <th>min</th>\n",
       "      <td>6.872350e+05</td>\n",
       "      <td>NaN</td>\n",
       "      <td>NaN</td>\n",
       "      <td>NaN</td>\n",
       "      <td>1.000000</td>\n",
       "      <td>1.000000</td>\n",
       "      <td>1.150000e+05</td>\n",
       "    </tr>\n",
       "    <tr>\n",
       "      <th>25%</th>\n",
       "      <td>4.652353e+07</td>\n",
       "      <td>NaN</td>\n",
       "      <td>NaN</td>\n",
       "      <td>NaN</td>\n",
       "      <td>4.000000</td>\n",
       "      <td>3.000000</td>\n",
       "      <td>1.800000e+07</td>\n",
       "    </tr>\n",
       "    <tr>\n",
       "      <th>50%</th>\n",
       "      <td>4.706818e+07</td>\n",
       "      <td>NaN</td>\n",
       "      <td>NaN</td>\n",
       "      <td>NaN</td>\n",
       "      <td>5.000000</td>\n",
       "      <td>4.000000</td>\n",
       "      <td>3.200000e+07</td>\n",
       "    </tr>\n",
       "    <tr>\n",
       "      <th>75%</th>\n",
       "      <td>4.731195e+07</td>\n",
       "      <td>NaN</td>\n",
       "      <td>NaN</td>\n",
       "      <td>NaN</td>\n",
       "      <td>6.000000</td>\n",
       "      <td>5.000000</td>\n",
       "      <td>6.000000e+07</td>\n",
       "    </tr>\n",
       "    <tr>\n",
       "      <th>max</th>\n",
       "      <td>4.739719e+07</td>\n",
       "      <td>NaN</td>\n",
       "      <td>NaN</td>\n",
       "      <td>NaN</td>\n",
       "      <td>10.000000</td>\n",
       "      <td>11.000000</td>\n",
       "      <td>7.171000e+08</td>\n",
       "    </tr>\n",
       "  </tbody>\n",
       "</table>\n",
       "</div>"
      ],
      "text/plain": [
       "            house_id   Type                     Location     Area  \\\n",
       "count   1.716900e+04  17169                        17169    17169   \n",
       "unique           NaN      4                          324      170   \n",
       "top              NaN  House  DHA Defence, Lahore, Punjab  5 Marla   \n",
       "freq             NaN  16017                         4845     4304   \n",
       "mean    4.655362e+07    NaN                          NaN      NaN   \n",
       "std     1.796472e+06    NaN                          NaN      NaN   \n",
       "min     6.872350e+05    NaN                          NaN      NaN   \n",
       "25%     4.652353e+07    NaN                          NaN      NaN   \n",
       "50%     4.706818e+07    NaN                          NaN      NaN   \n",
       "75%     4.731195e+07    NaN                          NaN      NaN   \n",
       "max     4.739719e+07    NaN                          NaN      NaN   \n",
       "\n",
       "             Bath(s)    Bedroom(s)         Price  \n",
       "count   17169.000000  17169.000000  1.716900e+04  \n",
       "unique           NaN           NaN           NaN  \n",
       "top              NaN           NaN           NaN  \n",
       "freq             NaN           NaN           NaN  \n",
       "mean        4.716233      4.183820  4.758766e+07  \n",
       "std         1.329716      1.294566  5.467632e+07  \n",
       "min         1.000000      1.000000  1.150000e+05  \n",
       "25%         4.000000      3.000000  1.800000e+07  \n",
       "50%         5.000000      4.000000  3.200000e+07  \n",
       "75%         6.000000      5.000000  6.000000e+07  \n",
       "max        10.000000     11.000000  7.171000e+08  "
      ]
     },
     "execution_count": 13,
     "metadata": {},
     "output_type": "execute_result"
    }
   ],
   "source": [
    "df.describe(include=\"all\")"
   ]
  },
  {
   "cell_type": "code",
   "execution_count": 14,
   "id": "466539b7-1654-463f-b99d-8362a734dc74",
   "metadata": {},
   "outputs": [
    {
     "data": {
      "text/plain": [
       "house_id      0\n",
       "Type          0\n",
       "Location      0\n",
       "Area          0\n",
       "Bath(s)       0\n",
       "Bedroom(s)    0\n",
       "Price         0\n",
       "dtype: int64"
      ]
     },
     "execution_count": 14,
     "metadata": {},
     "output_type": "execute_result"
    }
   ],
   "source": [
    "df.isnull().sum()"
   ]
  },
  {
   "cell_type": "markdown",
   "id": "c1b5df69-9593-4d2d-97ad-afeb30f462b1",
   "metadata": {},
   "source": [
    "Since there are no Null values in any of the fields of our datasets, we don't need to do any data binning or dropping rows"
   ]
  },
  {
   "cell_type": "code",
   "execution_count": 15,
   "id": "457f2f51-787f-4ddf-a35e-f9baf6a1f138",
   "metadata": {},
   "outputs": [
    {
     "data": {
      "text/html": [
       "<div>\n",
       "<style scoped>\n",
       "    .dataframe tbody tr th:only-of-type {\n",
       "        vertical-align: middle;\n",
       "    }\n",
       "\n",
       "    .dataframe tbody tr th {\n",
       "        vertical-align: top;\n",
       "    }\n",
       "\n",
       "    .dataframe thead th {\n",
       "        text-align: right;\n",
       "    }\n",
       "</style>\n",
       "<table border=\"1\" class=\"dataframe\">\n",
       "  <thead>\n",
       "    <tr style=\"text-align: right;\">\n",
       "      <th></th>\n",
       "      <th>house_id</th>\n",
       "      <th>Type</th>\n",
       "      <th>Location</th>\n",
       "      <th>Area</th>\n",
       "      <th>Bath(s)</th>\n",
       "      <th>Bedroom(s)</th>\n",
       "      <th>Price</th>\n",
       "      <th>Area_Marlas</th>\n",
       "    </tr>\n",
       "  </thead>\n",
       "  <tbody>\n",
       "    <tr>\n",
       "      <th>0</th>\n",
       "      <td>46326643</td>\n",
       "      <td>House</td>\n",
       "      <td>DHA Defence, Lahore, Punjab</td>\n",
       "      <td>1 Kanal</td>\n",
       "      <td>6</td>\n",
       "      <td>5</td>\n",
       "      <td>75500000</td>\n",
       "      <td>20.0</td>\n",
       "    </tr>\n",
       "    <tr>\n",
       "      <th>1</th>\n",
       "      <td>46952582</td>\n",
       "      <td>House</td>\n",
       "      <td>Bahria Orchard, Lahore, Punjab</td>\n",
       "      <td>8 Marla</td>\n",
       "      <td>5</td>\n",
       "      <td>5</td>\n",
       "      <td>25000000</td>\n",
       "      <td>8.0</td>\n",
       "    </tr>\n",
       "    <tr>\n",
       "      <th>2</th>\n",
       "      <td>47357581</td>\n",
       "      <td>House</td>\n",
       "      <td>Paragon City, Lahore, Punjab</td>\n",
       "      <td>10 Marla</td>\n",
       "      <td>6</td>\n",
       "      <td>5</td>\n",
       "      <td>47000000</td>\n",
       "      <td>10.0</td>\n",
       "    </tr>\n",
       "    <tr>\n",
       "      <th>3</th>\n",
       "      <td>47397157</td>\n",
       "      <td>Flat</td>\n",
       "      <td>Askari, Lahore, Punjab</td>\n",
       "      <td>10 Marla</td>\n",
       "      <td>3</td>\n",
       "      <td>3</td>\n",
       "      <td>28000000</td>\n",
       "      <td>10.0</td>\n",
       "    </tr>\n",
       "    <tr>\n",
       "      <th>4</th>\n",
       "      <td>43109993</td>\n",
       "      <td>House</td>\n",
       "      <td>DHA Defence, Lahore, Punjab</td>\n",
       "      <td>8 Marla</td>\n",
       "      <td>5</td>\n",
       "      <td>4</td>\n",
       "      <td>43500000</td>\n",
       "      <td>8.0</td>\n",
       "    </tr>\n",
       "  </tbody>\n",
       "</table>\n",
       "</div>"
      ],
      "text/plain": [
       "   house_id   Type                        Location      Area  Bath(s)  \\\n",
       "0  46326643  House     DHA Defence, Lahore, Punjab   1 Kanal        6   \n",
       "1  46952582  House  Bahria Orchard, Lahore, Punjab   8 Marla        5   \n",
       "2  47357581  House    Paragon City, Lahore, Punjab  10 Marla        6   \n",
       "3  47397157   Flat          Askari, Lahore, Punjab  10 Marla        3   \n",
       "4  43109993  House     DHA Defence, Lahore, Punjab   8 Marla        5   \n",
       "\n",
       "   Bedroom(s)     Price  Area_Marlas  \n",
       "0           5  75500000         20.0  \n",
       "1           5  25000000          8.0  \n",
       "2           5  47000000         10.0  \n",
       "3           3  28000000         10.0  \n",
       "4           4  43500000          8.0  "
      ]
     },
     "execution_count": 15,
     "metadata": {},
     "output_type": "execute_result"
    }
   ],
   "source": [
    "def convert_to_marlas(area_str):\n",
    "    area_str = str(area_str).lower()\n",
    "    kanal = 0\n",
    "    marla = 0\n",
    "\n",
    "    if \"kanal\" in area_str:\n",
    "        kanal_part = area_str.split(\"kanal\")[0].strip()\n",
    "        kanal = float(kanal_part) if kanal_part else 0  # Convert to float\n",
    "\n",
    "    if \"marla\" in area_str:\n",
    "        marla_part = area_str.split(\"marla\")[0].split()[-1].strip()\n",
    "        marla = float(marla_part) if marla_part else 0  # Convert to float\n",
    "\n",
    "    return kanal * 20 + marla  # 1 Kanal = 20 Marlas\n",
    "\n",
    "df['Area_Marlas'] = df['Area'].apply(convert_to_marlas)\n",
    "df.head()"
   ]
  },
  {
   "cell_type": "markdown",
   "id": "20f49c30-7cbf-4b59-ba3f-66aa2dd921b9",
   "metadata": {},
   "source": [
    "### Standardization\n",
    "We need to stardard some of the fields so that there are no inconsistencies in the data."
   ]
  },
  {
   "cell_type": "code",
   "execution_count": 16,
   "id": "e77059ea-e953-4fc0-a879-78d9aa3a0945",
   "metadata": {},
   "outputs": [
    {
     "data": {
      "text/plain": [
       "Type\n",
       "house        16017\n",
       "flat          1146\n",
       "penthouse        4\n",
       "room             2\n",
       "Name: count, dtype: int64"
      ]
     },
     "execution_count": 16,
     "metadata": {},
     "output_type": "execute_result"
    }
   ],
   "source": [
    "df[\"Type\"] = df[\"Type\"].str.lower().str.strip()\n",
    "df[\"Type\"].value_counts()"
   ]
  },
  {
   "cell_type": "code",
   "execution_count": 17,
   "id": "b890b9fa-6609-4290-9889-cbb35c508add",
   "metadata": {},
   "outputs": [],
   "source": [
    "mask_1 = df['Type'] == 'room'\n",
    "df = df[~mask_1]\n",
    "\n",
    "mask_2 = df['Type'] == 'penthouse'\n",
    "df = df[~mask_2]"
   ]
  },
  {
   "cell_type": "markdown",
   "id": "bc64eff5-ce1f-4c0a-a793-086f89e81786",
   "metadata": {},
   "source": [
    "since there are only **6** values for **2** categories in the **type** column, we drop them as they will affect the overall analysis "
   ]
  },
  {
   "cell_type": "code",
   "execution_count": 18,
   "id": "928877d1-043f-4ba8-a39b-ad49bed21f0b",
   "metadata": {},
   "outputs": [
    {
     "data": {
      "text/plain": [
       "Location\n",
       "dha defence, lahore, punjab      4843\n",
       "bahria town, lahore, punjab      1766\n",
       "askari, lahore, punjab            852\n",
       "raiwind road, lahore, punjab      599\n",
       "johar town, lahore, punjab        511\n",
       "                                 ... \n",
       "pakki thatti, lahore, punjab        1\n",
       "lytton road, lahore, punjab         1\n",
       "ali town, lahore, punjab            1\n",
       "madina colony, lahore, punjab       1\n",
       "rehman park, lahore, punjab         1\n",
       "Name: count, Length: 324, dtype: int64"
      ]
     },
     "execution_count": 18,
     "metadata": {},
     "output_type": "execute_result"
    }
   ],
   "source": [
    "df[\"Location\"] = df[\"Location\"].str.lower().str.strip()\n",
    "df[\"Location\"].value_counts()"
   ]
  },
  {
   "cell_type": "markdown",
   "id": "e9d05afc-d66d-4bee-8d7a-596948d008f6",
   "metadata": {},
   "source": [
    "### Reducing Cardinality\n",
    "there are 324 unique locations, which is too much for most models. so we group top **20** frequent locations and label the rest as **Others**. "
   ]
  },
  {
   "cell_type": "code",
   "execution_count": 19,
   "id": "785c5c1b-60d6-414f-9319-3e736bf39e8a",
   "metadata": {},
   "outputs": [],
   "source": [
    "top_locations = df[\"Location\"].value_counts().nlargest(20).index\n",
    "df[\"Location\"] = df[\"Location\"].apply(lambda x: x if x in top_locations else \"other\")"
   ]
  },
  {
   "cell_type": "markdown",
   "id": "cd456f75-8b3e-4ae3-a79d-552796149f6c",
   "metadata": {},
   "source": [
    "### Converting Data types\n",
    "Ensuring numeric columns are of numeric types"
   ]
  },
  {
   "cell_type": "code",
   "execution_count": 20,
   "id": "90975a0a-bbe0-433a-8e62-be033855bb08",
   "metadata": {},
   "outputs": [],
   "source": [
    "df[\"Bath(s)\"] = pd.to_numeric(df[\"Bath(s)\"], errors='coerce')\n",
    "df[\"Bedroom(s)\"] = pd.to_numeric(df[\"Bedroom(s)\"], errors='coerce')\n",
    "df[\"Price\"] = pd.to_numeric(df[\"Price\"], errors='coerce')\n",
    "df[\"Area_Marlas\"] = pd.to_numeric(df[\"Area_Marlas\"], errors='coerce')"
   ]
  },
  {
   "cell_type": "markdown",
   "id": "35ae2150-8b20-4a25-9845-67ce806b2d2f",
   "metadata": {},
   "source": [
    "finally saving the preprocessed data into a new CSV file."
   ]
  },
  {
   "cell_type": "code",
   "execution_count": 21,
   "id": "a795eefd-950b-4976-b4fc-2f150f9fab56",
   "metadata": {},
   "outputs": [],
   "source": [
    "df.to_csv(\"preprocessed_lahore_house_prices.csv\", index=False)"
   ]
  }
 ],
 "metadata": {
  "kernelspec": {
   "display_name": "Python 3 (ipykernel)",
   "language": "python",
   "name": "python3"
  },
  "language_info": {
   "codemirror_mode": {
    "name": "ipython",
    "version": 3
   },
   "file_extension": ".py",
   "mimetype": "text/x-python",
   "name": "python",
   "nbconvert_exporter": "python",
   "pygments_lexer": "ipython3",
   "version": "3.12.3"
  }
 },
 "nbformat": 4,
 "nbformat_minor": 5
}
